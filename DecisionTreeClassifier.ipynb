{
 "cells": [
  {
   "cell_type": "code",
   "execution_count": null,
   "metadata": {},
   "outputs": [],
   "source": [
    "import pandas as pd\n",
    "from sklearn.model_selection import train_test_split\n",
    "from sklearn.tree import DecisionTreeClassifier\n",
    "import matplotlib.pyplot as plt\n",
    "\n",
    "flags = pd.read_csv('flags.csv', header=0)\n",
    "labels = flags[['Language']]\n",
    "data = flags[[\"Red\", \"Green\", \"Blue\", \"Gold\",\n",
    " \"White\", \"Black\", \"Orange\",\n",
    " \"Circles\",\n",
    "\"Crosses\",\"Saltires\",\"Quarters\",\"Sunstars\",\n",
    "\"Crescent\",\"Triangle\"]]\n",
    "\n",
    "\n",
    "scores = []\n",
    "for i in range(1,21):\n",
    "  train_data, test_data, train_labels, test_labels = train_test_split(data, labels, random_state = 1)\n",
    "  tree = DecisionTreeClassifier(random_state=1, max_depth=i)\n",
    "  tree.fit(train_data, train_labels)\n",
    "  scores.append(tree.score(test_data, test_labels))\n",
    "\n",
    "plt.plot(range(1,21), scores)\n",
    "plt.show()\n"
   ]
  }
 ],
 "metadata": {
  "language_info": {
   "name": "python"
  },
  "orig_nbformat": 4
 },
 "nbformat": 4,
 "nbformat_minor": 2
}
